{
 "cells": [
  {
   "cell_type": "code",
   "execution_count": 223,
   "metadata": {},
   "outputs": [],
   "source": [
    "import numpy as np\n",
    "import pandas as pd\n",
    "import seaborn as sns\n",
    "import matplotlib.pyplot as plt\n",
    "%matplotlib inline\n",
    "\n",
    "from sklearn.preprocessing import StandardScaler\n",
    "from sklearn.model_selection import train_test_split\n",
    "from sklearn.ensemble import RandomForestClassifier\n",
    "from sklearn.metrics import classification_report, confusion_matrix\n",
    "\n",
    "\n",
    "from sklearn import model_selection\n",
    "from sklearn.linear_model import LogisticRegression\n",
    "from sklearn.metrics import classification_report, confusion_matrix, accuracy_score\n",
    "from sklearn.tree import DecisionTreeClassifier\n",
    "from sklearn.ensemble import RandomForestClassifier\n",
    "from sklearn.svm import SVC\n",
    "from sklearn.neighbors import KNeighborsClassifier\n",
    "from sklearn.naive_bayes import GaussianNB, BernoulliNB"
   ]
  },
  {
   "cell_type": "markdown",
   "metadata": {},
   "source": [
    "### Explore the Data - Univariate and Bi-variates\n",
    "\n",
    "Univariate checks:\n",
    "1. The sample size (1372 rows, four features), and the balance of target (44.5% banknotes are fake).\n",
    "2. Features include: variance, skewness, and Kurtosis of the wavelets, and entropy.\n",
    "   Target for classification is whether the banknote is fake or authentic (where fake = 1).\n",
    "3. Check if each variable in the data has missing values (no missing).\n",
    "4. The descriptive statistics for each variable to compare the distributions - a base to decide whether scale is necessary.\n",
    "5. Distribution of each variable - base for us to know whether we need to transform data and to choose the right models.\n",
    "\n",
    "Bi-variates:\n",
    "1. We want to explore visually which features will help or not help in classifying the fake banknotes.\n",
    "2. Histograms, Box-plots, and Pair Plots will be used to explore feature relationships with each other and with target.\n",
    "3. Correlations will tell us whether we need to ajust for multcolinearity issues (such as using Ridge - L2 regulations)."
   ]
  },
  {
   "cell_type": "code",
   "execution_count": 214,
   "metadata": {},
   "outputs": [
    {
     "data": {
      "text/html": [
       "<div>\n",
       "<style scoped>\n",
       "    .dataframe tbody tr th:only-of-type {\n",
       "        vertical-align: middle;\n",
       "    }\n",
       "\n",
       "    .dataframe tbody tr th {\n",
       "        vertical-align: top;\n",
       "    }\n",
       "\n",
       "    .dataframe thead th {\n",
       "        text-align: right;\n",
       "    }\n",
       "</style>\n",
       "<table border=\"1\" class=\"dataframe\">\n",
       "  <thead>\n",
       "    <tr style=\"text-align: right;\">\n",
       "      <th></th>\n",
       "      <th>varianceW</th>\n",
       "      <th>skewnessW</th>\n",
       "      <th>kurtosisW</th>\n",
       "      <th>entropy</th>\n",
       "      <th>fake</th>\n",
       "    </tr>\n",
       "  </thead>\n",
       "  <tbody>\n",
       "    <tr>\n",
       "      <th>0</th>\n",
       "      <td>3.62160</td>\n",
       "      <td>8.6661</td>\n",
       "      <td>-2.8073</td>\n",
       "      <td>-0.44699</td>\n",
       "      <td>0</td>\n",
       "    </tr>\n",
       "    <tr>\n",
       "      <th>1</th>\n",
       "      <td>4.54590</td>\n",
       "      <td>8.1674</td>\n",
       "      <td>-2.4586</td>\n",
       "      <td>-1.46210</td>\n",
       "      <td>0</td>\n",
       "    </tr>\n",
       "    <tr>\n",
       "      <th>2</th>\n",
       "      <td>3.86600</td>\n",
       "      <td>-2.6383</td>\n",
       "      <td>1.9242</td>\n",
       "      <td>0.10645</td>\n",
       "      <td>0</td>\n",
       "    </tr>\n",
       "    <tr>\n",
       "      <th>3</th>\n",
       "      <td>3.45660</td>\n",
       "      <td>9.5228</td>\n",
       "      <td>-4.0112</td>\n",
       "      <td>-3.59440</td>\n",
       "      <td>0</td>\n",
       "    </tr>\n",
       "    <tr>\n",
       "      <th>4</th>\n",
       "      <td>0.32924</td>\n",
       "      <td>-4.4552</td>\n",
       "      <td>4.5718</td>\n",
       "      <td>-0.98880</td>\n",
       "      <td>0</td>\n",
       "    </tr>\n",
       "  </tbody>\n",
       "</table>\n",
       "</div>"
      ],
      "text/plain": [
       "   varianceW  skewnessW  kurtosisW  entropy  fake\n",
       "0    3.62160     8.6661    -2.8073 -0.44699     0\n",
       "1    4.54590     8.1674    -2.4586 -1.46210     0\n",
       "2    3.86600    -2.6383     1.9242  0.10645     0\n",
       "3    3.45660     9.5228    -4.0112 -3.59440     0\n",
       "4    0.32924    -4.4552     4.5718 -0.98880     0"
      ]
     },
     "execution_count": 214,
     "metadata": {},
     "output_type": "execute_result"
    }
   ],
   "source": [
    "# Read in data, check sample size\n",
    "column_names =[\"varianceW\", \"skewnessW\",\"kurtosisW\", \"entropy\", \"fake\"]\n",
    "dat = pd.read_csv(\"data_banknote_authentication.txt\", sep=\",\", header=None )\n",
    "dat.columns = column_names\n",
    "dat.shape # 1372 rows by 5 columns\n",
    "dat.head()\n"
   ]
  },
  {
   "cell_type": "code",
   "execution_count": 156,
   "metadata": {},
   "outputs": [
    {
     "name": "stdout",
     "output_type": "stream",
     "text": [
      "<class 'pandas.core.frame.DataFrame'>\n",
      "RangeIndex: 1372 entries, 0 to 1371\n",
      "Data columns (total 5 columns):\n",
      "varianceW    1372 non-null float64\n",
      "skewnessW    1372 non-null float64\n",
      "kurtosisW    1372 non-null float64\n",
      "entropy      1372 non-null float64\n",
      "fake         1372 non-null int64\n",
      "dtypes: float64(4), int64(1)\n",
      "memory usage: 53.7 KB\n"
     ]
    }
   ],
   "source": [
    "# Check each variable type - all are numerics.\n",
    "dat.info()"
   ]
  },
  {
   "cell_type": "code",
   "execution_count": 157,
   "metadata": {},
   "outputs": [
    {
     "data": {
      "text/plain": [
       "varianceW    0\n",
       "skewnessW    0\n",
       "kurtosisW    0\n",
       "entropy      0\n",
       "fake         0\n",
       "dtype: int64"
      ]
     },
     "execution_count": 157,
     "metadata": {},
     "output_type": "execute_result"
    }
   ],
   "source": [
    " # Check if there is missing values - no missing values.\n",
    "dat.isnull().sum() "
   ]
  },
  {
   "cell_type": "code",
   "execution_count": 158,
   "metadata": {},
   "outputs": [
    {
     "data": {
      "text/html": [
       "<div>\n",
       "<style scoped>\n",
       "    .dataframe tbody tr th:only-of-type {\n",
       "        vertical-align: middle;\n",
       "    }\n",
       "\n",
       "    .dataframe tbody tr th {\n",
       "        vertical-align: top;\n",
       "    }\n",
       "\n",
       "    .dataframe thead th {\n",
       "        text-align: right;\n",
       "    }\n",
       "</style>\n",
       "<table border=\"1\" class=\"dataframe\">\n",
       "  <thead>\n",
       "    <tr style=\"text-align: right;\">\n",
       "      <th></th>\n",
       "      <th>varianceW</th>\n",
       "      <th>skewnessW</th>\n",
       "      <th>kurtosisW</th>\n",
       "      <th>entropy</th>\n",
       "    </tr>\n",
       "    <tr>\n",
       "      <th>fake</th>\n",
       "      <th></th>\n",
       "      <th></th>\n",
       "      <th></th>\n",
       "      <th></th>\n",
       "    </tr>\n",
       "  </thead>\n",
       "  <tbody>\n",
       "    <tr>\n",
       "      <th>0</th>\n",
       "      <td>762</td>\n",
       "      <td>762</td>\n",
       "      <td>762</td>\n",
       "      <td>762</td>\n",
       "    </tr>\n",
       "    <tr>\n",
       "      <th>1</th>\n",
       "      <td>610</td>\n",
       "      <td>610</td>\n",
       "      <td>610</td>\n",
       "      <td>610</td>\n",
       "    </tr>\n",
       "  </tbody>\n",
       "</table>\n",
       "</div>"
      ],
      "text/plain": [
       "      varianceW  skewnessW  kurtosisW  entropy\n",
       "fake                                          \n",
       "0           762        762        762      762\n",
       "1           610        610        610      610"
      ]
     },
     "execution_count": 158,
     "metadata": {},
     "output_type": "execute_result"
    }
   ],
   "source": [
    "# Check how balanced the target \n",
    "dat.groupby('fake').count()\n",
    "# 610 fake vs. 762 authentic, pretty balanced 44.5% are fake."
   ]
  },
  {
   "cell_type": "code",
   "execution_count": 159,
   "metadata": {},
   "outputs": [
    {
     "data": {
      "text/html": [
       "<div>\n",
       "<style scoped>\n",
       "    .dataframe tbody tr th:only-of-type {\n",
       "        vertical-align: middle;\n",
       "    }\n",
       "\n",
       "    .dataframe tbody tr th {\n",
       "        vertical-align: top;\n",
       "    }\n",
       "\n",
       "    .dataframe thead th {\n",
       "        text-align: right;\n",
       "    }\n",
       "</style>\n",
       "<table border=\"1\" class=\"dataframe\">\n",
       "  <thead>\n",
       "    <tr style=\"text-align: right;\">\n",
       "      <th></th>\n",
       "      <th>varianceW</th>\n",
       "      <th>skewnessW</th>\n",
       "      <th>kurtosisW</th>\n",
       "      <th>entropy</th>\n",
       "      <th>fake</th>\n",
       "    </tr>\n",
       "  </thead>\n",
       "  <tbody>\n",
       "    <tr>\n",
       "      <th>count</th>\n",
       "      <td>1372.000000</td>\n",
       "      <td>1372.000000</td>\n",
       "      <td>1372.000000</td>\n",
       "      <td>1372.000000</td>\n",
       "      <td>1372.000000</td>\n",
       "    </tr>\n",
       "    <tr>\n",
       "      <th>mean</th>\n",
       "      <td>0.433735</td>\n",
       "      <td>1.922353</td>\n",
       "      <td>1.397627</td>\n",
       "      <td>-1.191657</td>\n",
       "      <td>0.444606</td>\n",
       "    </tr>\n",
       "    <tr>\n",
       "      <th>std</th>\n",
       "      <td>2.842763</td>\n",
       "      <td>5.869047</td>\n",
       "      <td>4.310030</td>\n",
       "      <td>2.101013</td>\n",
       "      <td>0.497103</td>\n",
       "    </tr>\n",
       "    <tr>\n",
       "      <th>min</th>\n",
       "      <td>-7.042100</td>\n",
       "      <td>-13.773100</td>\n",
       "      <td>-5.286100</td>\n",
       "      <td>-8.548200</td>\n",
       "      <td>0.000000</td>\n",
       "    </tr>\n",
       "    <tr>\n",
       "      <th>25%</th>\n",
       "      <td>-1.773000</td>\n",
       "      <td>-1.708200</td>\n",
       "      <td>-1.574975</td>\n",
       "      <td>-2.413450</td>\n",
       "      <td>0.000000</td>\n",
       "    </tr>\n",
       "    <tr>\n",
       "      <th>50%</th>\n",
       "      <td>0.496180</td>\n",
       "      <td>2.319650</td>\n",
       "      <td>0.616630</td>\n",
       "      <td>-0.586650</td>\n",
       "      <td>0.000000</td>\n",
       "    </tr>\n",
       "    <tr>\n",
       "      <th>75%</th>\n",
       "      <td>2.821475</td>\n",
       "      <td>6.814625</td>\n",
       "      <td>3.179250</td>\n",
       "      <td>0.394810</td>\n",
       "      <td>1.000000</td>\n",
       "    </tr>\n",
       "    <tr>\n",
       "      <th>max</th>\n",
       "      <td>6.824800</td>\n",
       "      <td>12.951600</td>\n",
       "      <td>17.927400</td>\n",
       "      <td>2.449500</td>\n",
       "      <td>1.000000</td>\n",
       "    </tr>\n",
       "  </tbody>\n",
       "</table>\n",
       "</div>"
      ],
      "text/plain": [
       "         varianceW    skewnessW    kurtosisW      entropy         fake\n",
       "count  1372.000000  1372.000000  1372.000000  1372.000000  1372.000000\n",
       "mean      0.433735     1.922353     1.397627    -1.191657     0.444606\n",
       "std       2.842763     5.869047     4.310030     2.101013     0.497103\n",
       "min      -7.042100   -13.773100    -5.286100    -8.548200     0.000000\n",
       "25%      -1.773000    -1.708200    -1.574975    -2.413450     0.000000\n",
       "50%       0.496180     2.319650     0.616630    -0.586650     0.000000\n",
       "75%       2.821475     6.814625     3.179250     0.394810     1.000000\n",
       "max       6.824800    12.951600    17.927400     2.449500     1.000000"
      ]
     },
     "execution_count": 159,
     "metadata": {},
     "output_type": "execute_result"
    }
   ],
   "source": [
    "# Check descriptive statistics: data not scaled, and the features were not measured in similar scales\n",
    "dat.describe() "
   ]
  },
  {
   "cell_type": "code",
   "execution_count": 160,
   "metadata": {},
   "outputs": [
    {
     "data": {
      "text/html": [
       "<div>\n",
       "<style scoped>\n",
       "    .dataframe tbody tr th:only-of-type {\n",
       "        vertical-align: middle;\n",
       "    }\n",
       "\n",
       "    .dataframe tbody tr th {\n",
       "        vertical-align: top;\n",
       "    }\n",
       "\n",
       "    .dataframe thead th {\n",
       "        text-align: right;\n",
       "    }\n",
       "</style>\n",
       "<table border=\"1\" class=\"dataframe\">\n",
       "  <thead>\n",
       "    <tr style=\"text-align: right;\">\n",
       "      <th></th>\n",
       "      <th>varianceW</th>\n",
       "      <th>skewnessW</th>\n",
       "      <th>kurtosisW</th>\n",
       "      <th>entropy</th>\n",
       "      <th>fake</th>\n",
       "    </tr>\n",
       "  </thead>\n",
       "  <tbody>\n",
       "    <tr>\n",
       "      <th>count</th>\n",
       "      <td>610.000000</td>\n",
       "      <td>610.000000</td>\n",
       "      <td>610.000000</td>\n",
       "      <td>610.000000</td>\n",
       "      <td>610.0</td>\n",
       "    </tr>\n",
       "    <tr>\n",
       "      <th>mean</th>\n",
       "      <td>-1.868443</td>\n",
       "      <td>-0.993576</td>\n",
       "      <td>2.148271</td>\n",
       "      <td>-1.246641</td>\n",
       "      <td>1.0</td>\n",
       "    </tr>\n",
       "    <tr>\n",
       "      <th>std</th>\n",
       "      <td>1.881183</td>\n",
       "      <td>5.404884</td>\n",
       "      <td>5.261811</td>\n",
       "      <td>2.070984</td>\n",
       "      <td>0.0</td>\n",
       "    </tr>\n",
       "    <tr>\n",
       "      <th>min</th>\n",
       "      <td>-7.042100</td>\n",
       "      <td>-13.773100</td>\n",
       "      <td>-5.286100</td>\n",
       "      <td>-7.588700</td>\n",
       "      <td>1.0</td>\n",
       "    </tr>\n",
       "    <tr>\n",
       "      <th>25%</th>\n",
       "      <td>-3.061450</td>\n",
       "      <td>-5.810025</td>\n",
       "      <td>-1.357500</td>\n",
       "      <td>-2.458375</td>\n",
       "      <td>1.0</td>\n",
       "    </tr>\n",
       "    <tr>\n",
       "      <th>50%</th>\n",
       "      <td>-1.806100</td>\n",
       "      <td>0.172775</td>\n",
       "      <td>0.373720</td>\n",
       "      <td>-0.661650</td>\n",
       "      <td>1.0</td>\n",
       "    </tr>\n",
       "    <tr>\n",
       "      <th>75%</th>\n",
       "      <td>-0.541770</td>\n",
       "      <td>3.189275</td>\n",
       "      <td>5.626350</td>\n",
       "      <td>0.341790</td>\n",
       "      <td>1.0</td>\n",
       "    </tr>\n",
       "    <tr>\n",
       "      <th>max</th>\n",
       "      <td>2.391700</td>\n",
       "      <td>9.601400</td>\n",
       "      <td>17.927400</td>\n",
       "      <td>2.135300</td>\n",
       "      <td>1.0</td>\n",
       "    </tr>\n",
       "  </tbody>\n",
       "</table>\n",
       "</div>"
      ],
      "text/plain": [
       "        varianceW   skewnessW   kurtosisW     entropy   fake\n",
       "count  610.000000  610.000000  610.000000  610.000000  610.0\n",
       "mean    -1.868443   -0.993576    2.148271   -1.246641    1.0\n",
       "std      1.881183    5.404884    5.261811    2.070984    0.0\n",
       "min     -7.042100  -13.773100   -5.286100   -7.588700    1.0\n",
       "25%     -3.061450   -5.810025   -1.357500   -2.458375    1.0\n",
       "50%     -1.806100    0.172775    0.373720   -0.661650    1.0\n",
       "75%     -0.541770    3.189275    5.626350    0.341790    1.0\n",
       "max      2.391700    9.601400   17.927400    2.135300    1.0"
      ]
     },
     "execution_count": 160,
     "metadata": {},
     "output_type": "execute_result"
    }
   ],
   "source": [
    "# Looking at the feature descriptives by the authenticity of banknotes\n",
    "dat[dat['fake']==1].describe()"
   ]
  },
  {
   "cell_type": "code",
   "execution_count": 161,
   "metadata": {},
   "outputs": [
    {
     "data": {
      "text/html": [
       "<div>\n",
       "<style scoped>\n",
       "    .dataframe tbody tr th:only-of-type {\n",
       "        vertical-align: middle;\n",
       "    }\n",
       "\n",
       "    .dataframe tbody tr th {\n",
       "        vertical-align: top;\n",
       "    }\n",
       "\n",
       "    .dataframe thead th {\n",
       "        text-align: right;\n",
       "    }\n",
       "</style>\n",
       "<table border=\"1\" class=\"dataframe\">\n",
       "  <thead>\n",
       "    <tr style=\"text-align: right;\">\n",
       "      <th></th>\n",
       "      <th>varianceW</th>\n",
       "      <th>skewnessW</th>\n",
       "      <th>kurtosisW</th>\n",
       "      <th>entropy</th>\n",
       "      <th>fake</th>\n",
       "    </tr>\n",
       "  </thead>\n",
       "  <tbody>\n",
       "    <tr>\n",
       "      <th>count</th>\n",
       "      <td>762.000000</td>\n",
       "      <td>762.000000</td>\n",
       "      <td>762.000000</td>\n",
       "      <td>762.000000</td>\n",
       "      <td>762.0</td>\n",
       "    </tr>\n",
       "    <tr>\n",
       "      <th>mean</th>\n",
       "      <td>2.276686</td>\n",
       "      <td>4.256627</td>\n",
       "      <td>0.796718</td>\n",
       "      <td>-1.147640</td>\n",
       "      <td>0.0</td>\n",
       "    </tr>\n",
       "    <tr>\n",
       "      <th>std</th>\n",
       "      <td>2.019348</td>\n",
       "      <td>5.138792</td>\n",
       "      <td>3.239894</td>\n",
       "      <td>2.125077</td>\n",
       "      <td>0.0</td>\n",
       "    </tr>\n",
       "    <tr>\n",
       "      <th>min</th>\n",
       "      <td>-4.285900</td>\n",
       "      <td>-6.932100</td>\n",
       "      <td>-4.941700</td>\n",
       "      <td>-8.548200</td>\n",
       "      <td>0.0</td>\n",
       "    </tr>\n",
       "    <tr>\n",
       "      <th>25%</th>\n",
       "      <td>0.883345</td>\n",
       "      <td>0.450063</td>\n",
       "      <td>-1.709700</td>\n",
       "      <td>-2.228250</td>\n",
       "      <td>0.0</td>\n",
       "    </tr>\n",
       "    <tr>\n",
       "      <th>50%</th>\n",
       "      <td>2.553100</td>\n",
       "      <td>5.668800</td>\n",
       "      <td>0.700605</td>\n",
       "      <td>-0.552380</td>\n",
       "      <td>0.0</td>\n",
       "    </tr>\n",
       "    <tr>\n",
       "      <th>75%</th>\n",
       "      <td>3.884450</td>\n",
       "      <td>8.691975</td>\n",
       "      <td>2.652925</td>\n",
       "      <td>0.423258</td>\n",
       "      <td>0.0</td>\n",
       "    </tr>\n",
       "    <tr>\n",
       "      <th>max</th>\n",
       "      <td>6.824800</td>\n",
       "      <td>12.951600</td>\n",
       "      <td>8.829400</td>\n",
       "      <td>2.449500</td>\n",
       "      <td>0.0</td>\n",
       "    </tr>\n",
       "  </tbody>\n",
       "</table>\n",
       "</div>"
      ],
      "text/plain": [
       "        varianceW   skewnessW   kurtosisW     entropy   fake\n",
       "count  762.000000  762.000000  762.000000  762.000000  762.0\n",
       "mean     2.276686    4.256627    0.796718   -1.147640    0.0\n",
       "std      2.019348    5.138792    3.239894    2.125077    0.0\n",
       "min     -4.285900   -6.932100   -4.941700   -8.548200    0.0\n",
       "25%      0.883345    0.450063   -1.709700   -2.228250    0.0\n",
       "50%      2.553100    5.668800    0.700605   -0.552380    0.0\n",
       "75%      3.884450    8.691975    2.652925    0.423258    0.0\n",
       "max      6.824800   12.951600    8.829400    2.449500    0.0"
      ]
     },
     "execution_count": 161,
     "metadata": {},
     "output_type": "execute_result"
    }
   ],
   "source": [
    "dat[dat['fake']==0].describe()"
   ]
  },
  {
   "cell_type": "code",
   "execution_count": 162,
   "metadata": {},
   "outputs": [
    {
     "data": {
      "text/plain": [
       "'fake'"
      ]
     },
     "execution_count": 162,
     "metadata": {},
     "output_type": "execute_result"
    },
    {
     "data": {
      "image/png": "[encoded data removed]",
      "text/plain": [
       "<matplotlib.figure.Figure at 0xb594b00>"
      ]
     },
     "metadata": {},
     "output_type": "display_data"
    },
    {
     "data": {
      "image/png": "[encoded data removed]",
      "text/plain": [
       "<matplotlib.figure.Figure at 0xbda2588>"
      ]
     },
     "metadata": {},
     "output_type": "display_data"
    },
    {
     "data": {
      "image/png": "[encoded data removed]",
      "text/plain": [
       "<matplotlib.figure.Figure at 0xd13f7f0>"
      ]
     },
     "metadata": {},
     "output_type": "display_data"
    },
    {
     "data": {
      "image/png": "[encoded data removed]",
      "text/plain": [
       "<matplotlib.figure.Figure at 0xd279b38>"
      ]
     },
     "metadata": {},
     "output_type": "display_data"
    },
    {
     "data": {
      "image/png": "[encoded data removed]",
      "text/plain": [
       "<matplotlib.figure.Figure at 0xd1a40b8>"
      ]
     },
     "metadata": {},
     "output_type": "display_data"
    },
    {
     "data": {
      "image/png": "[encoded data removed]",
      "text/plain": [
       "<matplotlib.figure.Figure at 0xb63f160>"
      ]
     },
     "metadata": {},
     "output_type": "display_data"
    },
    {
     "data": {
      "image/png": "[encoded data removed]",
      "text/plain": [
       "<matplotlib.figure.Figure at 0xd56b978>"
      ]
     },
     "metadata": {},
     "output_type": "display_data"
    },
    {
     "data": {
      "image/png": "[encoded data removed]",
      "text/plain": [
       "<matplotlib.figure.Figure at 0xbef9c88>"
      ]
     },
     "metadata": {},
     "output_type": "display_data"
    }
   ],
   "source": [
    "## Let's look at how features are distributed by the authenticity of banknotes\n",
    "def cond_distplot(df, plot_cols, grid_col, by):\n",
    "    import matplotlib.pyplot as plt\n",
    "    import seaborn as sns\n",
    "    ## Loop over the list of columns\n",
    "    for col in plot_cols:\n",
    "        grid1 = sns.FacetGrid(df, col=grid_col)\n",
    "        grid1.map(sns.distplot, col,  kde=False)\n",
    "        fig = plt.figure(figsize=(6,6))\n",
    "        ax = fig.gca()\n",
    "        df.boxplot(column = col, by = by, ax = ax,vert=False)\n",
    "        ax.set_title('Box plots of ' + col + ' by ' + by)\n",
    "        ax.set_ylabel(col)\n",
    "    return grid_col\n",
    "\n",
    "## Define columns for making a conditioned histogram\n",
    "plot_col = [\"varianceW\", \"skewnessW\",\"kurtosisW\", \"entropy\"]\n",
    "\n",
    "cond_distplot(dat, plot_col, 'fake', 'fake')"
   ]
  },
  {
   "cell_type": "markdown",
   "metadata": {},
   "source": [
    "From the above histograms we can see that \"kurtosisW\"\" skews to the right and \"entropy\"\" skews to the left.\n",
    "And all four features are not quite normally distributed, however curtosisW and entropy are more obviousely skewed.\n",
    "And therefore, when we think of what algorithms to apply for the classification, we need to think of model assumptions.  For example Naive Bayes assumes normal distribution, we can use this information to decide whether to use NB or not.  And if we decide to use NB, how to transform the features so that they are more normally distributed. \n",
    "\n",
    "From the box plots, we can see that the varianceW separates fake vs. authenticity the best, while 'entropy' is the worst.  And 'skewnessW' separates better while 'curtosisW' is not good.\n",
    "\n",
    "The following pairplots make it clear that variance and skewness of wavelets, and the relationship of varianceW with Kurtosis, entropy will help to separate fake and authenticate banknotes.\n"
   ]
  },
  {
   "cell_type": "code",
   "execution_count": 163,
   "metadata": {},
   "outputs": [
    {
     "data": {
      "text/plain": [
       "<function matplotlib.pyplot.show>"
      ]
     },
     "execution_count": 163,
     "metadata": {},
     "output_type": "execute_result"
    },
    {
     "data": {
      "image/png": "[encoded data removed]",
      "text/plain": [
       "<matplotlib.figure.Figure at 0xb555320>"
      ]
     },
     "metadata": {},
     "output_type": "display_data"
    }
   ],
   "source": [
    "sns.pairplot(dat, hue='fake', size=2.0, palette=\"Set2\",  markers=[\"^\", \"v\"])\n",
    "plt.show"
   ]
  },
  {
   "cell_type": "code",
   "execution_count": 164,
   "metadata": {},
   "outputs": [
    {
     "data": {
      "text/html": [
       "<div>\n",
       "<style scoped>\n",
       "    .dataframe tbody tr th:only-of-type {\n",
       "        vertical-align: middle;\n",
       "    }\n",
       "\n",
       "    .dataframe tbody tr th {\n",
       "        vertical-align: top;\n",
       "    }\n",
       "\n",
       "    .dataframe thead th {\n",
       "        text-align: right;\n",
       "    }\n",
       "</style>\n",
       "<table border=\"1\" class=\"dataframe\">\n",
       "  <thead>\n",
       "    <tr style=\"text-align: right;\">\n",
       "      <th></th>\n",
       "      <th>varianceW</th>\n",
       "      <th>skewnessW</th>\n",
       "      <th>kurtosisW</th>\n",
       "      <th>entropy</th>\n",
       "      <th>fake</th>\n",
       "    </tr>\n",
       "  </thead>\n",
       "  <tbody>\n",
       "    <tr>\n",
       "      <th>varianceW</th>\n",
       "      <td>1.000000</td>\n",
       "      <td>0.264026</td>\n",
       "      <td>-0.380850</td>\n",
       "      <td>0.276817</td>\n",
       "      <td>-0.724843</td>\n",
       "    </tr>\n",
       "    <tr>\n",
       "      <th>skewnessW</th>\n",
       "      <td>0.264026</td>\n",
       "      <td>1.000000</td>\n",
       "      <td>-0.786895</td>\n",
       "      <td>-0.526321</td>\n",
       "      <td>-0.444688</td>\n",
       "    </tr>\n",
       "    <tr>\n",
       "      <th>kurtosisW</th>\n",
       "      <td>-0.380850</td>\n",
       "      <td>-0.786895</td>\n",
       "      <td>1.000000</td>\n",
       "      <td>0.318841</td>\n",
       "      <td>0.155883</td>\n",
       "    </tr>\n",
       "    <tr>\n",
       "      <th>entropy</th>\n",
       "      <td>0.276817</td>\n",
       "      <td>-0.526321</td>\n",
       "      <td>0.318841</td>\n",
       "      <td>1.000000</td>\n",
       "      <td>-0.023424</td>\n",
       "    </tr>\n",
       "    <tr>\n",
       "      <th>fake</th>\n",
       "      <td>-0.724843</td>\n",
       "      <td>-0.444688</td>\n",
       "      <td>0.155883</td>\n",
       "      <td>-0.023424</td>\n",
       "      <td>1.000000</td>\n",
       "    </tr>\n",
       "  </tbody>\n",
       "</table>\n",
       "</div>"
      ],
      "text/plain": [
       "           varianceW  skewnessW  kurtosisW   entropy      fake\n",
       "varianceW   1.000000   0.264026  -0.380850  0.276817 -0.724843\n",
       "skewnessW   0.264026   1.000000  -0.786895 -0.526321 -0.444688\n",
       "kurtosisW  -0.380850  -0.786895   1.000000  0.318841  0.155883\n",
       "entropy     0.276817  -0.526321   0.318841  1.000000 -0.023424\n",
       "fake       -0.724843  -0.444688   0.155883 -0.023424  1.000000"
      ]
     },
     "execution_count": 164,
     "metadata": {},
     "output_type": "execute_result"
    }
   ],
   "source": [
    "dat.corr()\n"
   ]
  },
  {
   "cell_type": "code",
   "execution_count": 185,
   "metadata": {},
   "outputs": [
    {
     "data": {
      "text/plain": [
       "<matplotlib.axes._subplots.AxesSubplot at 0xc414f28>"
      ]
     },
     "execution_count": 185,
     "metadata": {},
     "output_type": "execute_result"
    },
    {
     "data": {
      "image/png": "[encoded data removed]",
      "text/plain": [
       "<matplotlib.figure.Figure at 0xc4144a8>"
      ]
     },
     "metadata": {},
     "output_type": "display_data"
    }
   ],
   "source": [
    "sns.heatmap(dat.corr(), square=True, cmap='RdYlGn')"
   ]
  },
  {
   "cell_type": "markdown",
   "metadata": {},
   "source": [
    "We can see here is that skewness of wavelets is highly correlated with kurtosis of wavelets (negatively at 0.79), and is moderately corrected to entropy (negative 0.53).  The correlations among variance, kurtosis and entropy of wavelets are <0.4.\n",
    "\n",
    "Because Naive Bayes assumes independence, I suspect that NB will perform worse than other algorithms and I will test this later.\n"
   ]
  },
  {
   "cell_type": "markdown",
   "metadata": {},
   "source": [
    "### Classification Algorithms\n",
    "\n",
    "1. Identify performance measures based on the question at hand:\n",
    "   In this case of predicting fake banknotes, I think that accuracy is important, but at the same time the sensitivity and    specificity are equally important.  Because failing to predict when the banknote is fake (sensitivity where we included fake notes as real mondy) is as costy as when we identified authentic notes as fake notes (specificity).\n",
    "   So the measures to test algorithm perfomance will include:\n",
    "   (1) Accuracy = (True Positive + True Negative)/total\n",
    "   (2) Sensitivity = True Positive / (True Positive + False Negtive)\n",
    "   (3) Specificity = True Negative / (True Negative + False Positive)\n",
    "   (4) Error = 1 - Accuracy\n",
    "  \n",
    "2. I will leave randomly chosen 30% of the data as final test data.\n",
    "\n",
    "3. And I will use 10-fold cross-validation with 70% of the data and Errors, to test the performance of Logistic Regression Classifier, DecisionTreeClassifier,  BernoulliNB, KNeighborsClassifier, SVM, and Random Forest Classifier. \n",
    "And I can predict now that based on the above EDA, the SVM will perform the best because the default kernel for SVM is radial, which will take care of the need of higher-dimention of the features.  And I anticipate that NB will perform the worst, because from the histograms above we can see that the features are not quite normally distributed especially 'entropy' and 'kurtosisW'.  And the features are not independent because we see that Skewness is correlated with entropy and kurtosis.\n",
    "\n",
    "4. Explore the potentials for feature engineering, and hypter-parameter testing to improve algorithms performances.\n",
    "\n"
   ]
  },
  {
   "cell_type": "code",
   "execution_count": 215,
   "metadata": {},
   "outputs": [],
   "source": [
    "X = dat.drop('fake', axis=1)\n",
    "y = dat['fake']"
   ]
  },
  {
   "cell_type": "code",
   "execution_count": 262,
   "metadata": {},
   "outputs": [],
   "source": [
    "# Standardize the features\n",
    "sc = StandardScaler()\n",
    "sc.fit(X)\n",
    "scaled_X = sc.transform(X)\n",
    "sX = pd.DataFrame(scaled_X, columns = X.columns)\n"
   ]
  },
  {
   "cell_type": "code",
   "execution_count": 263,
   "metadata": {},
   "outputs": [
    {
     "data": {
      "text/html": [
       "<div>\n",
       "<style scoped>\n",
       "    .dataframe tbody tr th:only-of-type {\n",
       "        vertical-align: middle;\n",
       "    }\n",
       "\n",
       "    .dataframe tbody tr th {\n",
       "        vertical-align: top;\n",
       "    }\n",
       "\n",
       "    .dataframe thead th {\n",
       "        text-align: right;\n",
       "    }\n",
       "</style>\n",
       "<table border=\"1\" class=\"dataframe\">\n",
       "  <thead>\n",
       "    <tr style=\"text-align: right;\">\n",
       "      <th></th>\n",
       "      <th>varianceW</th>\n",
       "      <th>skewnessW</th>\n",
       "      <th>kurtosisW</th>\n",
       "      <th>entropy</th>\n",
       "    </tr>\n",
       "  </thead>\n",
       "  <tbody>\n",
       "    <tr>\n",
       "      <th>1316</th>\n",
       "      <td>-0.716689</td>\n",
       "      <td>-0.393970</td>\n",
       "      <td>0.051613</td>\n",
       "      <td>1.476948</td>\n",
       "    </tr>\n",
       "    <tr>\n",
       "      <th>1052</th>\n",
       "      <td>-1.004156</td>\n",
       "      <td>-0.369280</td>\n",
       "      <td>-0.161581</td>\n",
       "      <td>0.766456</td>\n",
       "    </tr>\n",
       "    <tr>\n",
       "      <th>1044</th>\n",
       "      <td>-0.677101</td>\n",
       "      <td>-0.705764</td>\n",
       "      <td>0.048224</td>\n",
       "      <td>0.993024</td>\n",
       "    </tr>\n",
       "    <tr>\n",
       "      <th>275</th>\n",
       "      <td>1.054804</td>\n",
       "      <td>0.739972</td>\n",
       "      <td>-0.777291</td>\n",
       "      <td>0.395195</td>\n",
       "    </tr>\n",
       "    <tr>\n",
       "      <th>889</th>\n",
       "      <td>-0.612422</td>\n",
       "      <td>-0.284633</td>\n",
       "      <td>-0.147460</td>\n",
       "      <td>1.412908</td>\n",
       "    </tr>\n",
       "  </tbody>\n",
       "</table>\n",
       "</div>"
      ],
      "text/plain": [
       "      varianceW  skewnessW  kurtosisW   entropy\n",
       "1316  -0.716689  -0.393970   0.051613  1.476948\n",
       "1052  -1.004156  -0.369280  -0.161581  0.766456\n",
       "1044  -0.677101  -0.705764   0.048224  0.993024\n",
       "275    1.054804   0.739972  -0.777291  0.395195\n",
       "889   -0.612422  -0.284633  -0.147460  1.412908"
      ]
     },
     "execution_count": 263,
     "metadata": {},
     "output_type": "execute_result"
    }
   ],
   "source": [
    "X_train, X_test, y_train, y_test = train_test_split(sX, y, test_size=0.30, random_state=5, stratify=y)\n",
    "X_train.head()"
   ]
  },
  {
   "cell_type": "code",
   "execution_count": 224,
   "metadata": {},
   "outputs": [
    {
     "name": "stdout",
     "output_type": "stream",
     "text": [
      "LR: 0.020833 (0.014731)\n",
      "Dtree: 0.020833 (0.013176)\n",
      "NB: 0.153125 (0.035493)\n",
      "KNN: 0.003125 (0.004774)\n",
      "SVM: 0.000000 (0.000000)\n",
      "rfc: 0.007292 (0.004774)\n"
     ]
    },
    {
     "data": {
      "text/plain": [
       "['LR', 'Dtree', 'NB', 'KNN', 'SVM', 'rfc']"
      ]
     },
     "execution_count": 224,
     "metadata": {},
     "output_type": "execute_result"
    }
   ],
   "source": [
    "scoring = \"accuracy\"\n",
    "seed = 123\n",
    "# Comparing models\n",
    "models = []\n",
    "\n",
    "models.append(('LR', LogisticRegression()))\n",
    "models.append(('Dtree', DecisionTreeClassifier()))\n",
    "models.append(('NB', BernoulliNB()))\n",
    "models.append(('KNN', KNeighborsClassifier()))\n",
    "models.append(('SVM', SVC()))\n",
    "models.append(('rfc', RandomForestClassifier()))\n",
    "\n",
    "\n",
    "\n",
    "#we iterate through all models and test their performance measured by 1 - accuracy = error\n",
    "results = []\n",
    "names = []\n",
    "for name, model in models:\n",
    "    kfold = model_selection.KFold(n_splits=10, random_state=seed)\n",
    "    cv_results = 1- model_selection.cross_val_score(model, X_train, y_train, cv=kfold, scoring=scoring)\n",
    "    results.append(cv_results)\n",
    "    names.append(name)\n",
    "    msg = \"%s: %f (%f)\" % (name, cv_results.mean(), cv_results.std())\n",
    "    print(msg)\n",
    "results\n",
    "names"
   ]
  },
  {
   "cell_type": "code",
   "execution_count": 264,
   "metadata": {},
   "outputs": [],
   "source": [
    "errs = pd.DataFrame(results)\n",
    "allerrs = errs.T\n",
    "allerrs.columns = ['LR', \"Dtree\", 'NB', 'KNN', 'SVM','rfc']\n"
   ]
  },
  {
   "cell_type": "code",
   "execution_count": 267,
   "metadata": {},
   "outputs": [
    {
     "data": {
      "text/plain": [
       "<matplotlib.axes._subplots.AxesSubplot at 0xbe64d68>"
      ]
     },
     "execution_count": 267,
     "metadata": {},
     "output_type": "execute_result"
    },
    {
     "data": {
      "image/png": "[encoded data removed]",
      "text/plain": [
       "<matplotlib.figure.Figure at 0xd0cabe0>"
      ]
     },
     "metadata": {},
     "output_type": "display_data"
    }
   ],
   "source": [
    "#sns.boxplot(allerrs)\n",
    "import warnings\n",
    "warnings.filterwarnings(\"ignore\")\n",
    "sns.boxplot(data=allerrs.ix[:,0:6])\n"
   ]
  },
  {
   "cell_type": "code",
   "execution_count": 110,
   "metadata": {},
   "outputs": [
    {
     "name": "stdout",
     "output_type": "stream",
     "text": [
      "Confusion Matrix : \n",
      " [[229   0]\n",
      " [  0 183]]\n",
      "Accuracy :  1.0\n",
      "Sensitivity :  1.0\n",
      "Specificity :  1.0\n",
      "Error :  0.0\n"
     ]
    }
   ],
   "source": [
    "# Now let's train the SVM with all the training data and use it on the test data\n",
    "svm = SVC().fit(X_train, y_train)\n",
    "svm_pred = svm.predict(X_test)\n",
    "cm = confusion_matrix(y_test, svm_pred)\n",
    "print('Confusion Matrix : \\n', cm)\n",
    "total = sum(sum(cm))\n",
    "accuracy=(cm[0,0]+cm[1,1])/total\n",
    "print ('Accuracy : ', accuracy)\n",
    "sensitivity = cm[0,0]/(cm[0,0]+cm[0,1])\n",
    "print('Sensitivity : ', sensitivity )\n",
    "specificity = cm[1,1]/(cm[1,0]+cm[1,1])\n",
    "print('Specificity : ', specificity )\n",
    "error = 1 - accuracy\n",
    "print('Error : ', error )"
   ]
  },
  {
   "cell_type": "markdown",
   "metadata": {},
   "source": [
    "### SVM is the best.  But can we improve Logistic Regression by Regularization and Feature Engineering?"
   ]
  },
  {
   "cell_type": "markdown",
   "metadata": {},
   "source": [
    "We know that \"logistic regression requires the observations to be independent of each other.  In other words, the observations should not come from repeated measurements or matched data.\"\n",
    "\n",
    "And, \"logistic regression requires there to be little or no multicollinearity among the independent variables.  This means that the independent variables should not be too highly correlated with each other.\" (citation 3)\n",
    "\n",
    "1. One way to take care of multicollinearity is to use Ridge Regulation - it turns out that Sklearn Logistic Regression, the default penalty is Ridge or l2 regulation.\n",
    "2. We can also use Lasso l1 regularizition to select out unnecessary features.\n",
    "3. We can create polynomials including interactions to take away the multicollinearity and to consider non-linear relationship between target and certain features."
   ]
  },
  {
   "cell_type": "code",
   "execution_count": 116,
   "metadata": {},
   "outputs": [
    {
     "name": "stdout",
     "output_type": "stream",
     "text": [
      "Confusion Matrix : \n",
      " [[224   5]\n",
      " [  0 183]]\n",
      "Accuracy :  0.9878640776699029\n",
      "Sensitivity :  0.9781659388646288\n",
      "Specificity :  1.0\n",
      "Error :  0.012135922330097082\n"
     ]
    }
   ],
   "source": [
    "# The default is l2\n",
    "LR = LogisticRegression(penalty='l2').fit(X_train, y_train)\n",
    "LR_pred = LR.predict(X_test)\n",
    "cm = confusion_matrix(y_test, LR_pred)\n",
    "print('Confusion Matrix : \\n', cm)\n",
    "total = sum(sum(cm))\n",
    "accuracy=(cm[0,0]+cm[1,1])/total\n",
    "print ('Accuracy : ', accuracy)\n",
    "sensitivity = cm[0,0]/(cm[0,0]+cm[0,1])\n",
    "print('Sensitivity : ', sensitivity )\n",
    "specificity = cm[1,1]/(cm[1,0]+cm[1,1])\n",
    "print('Specificity : ', specificity )\n",
    "error = 1 - accuracy\n",
    "print('Error : ', error )"
   ]
  },
  {
   "cell_type": "code",
   "execution_count": 115,
   "metadata": {},
   "outputs": [
    {
     "name": "stdout",
     "output_type": "stream",
     "text": [
      "Confusion Matrix : \n",
      " [[227   2]\n",
      " [  0 183]]\n",
      "Accuracy :  0.9951456310679612\n",
      "Sensitivity :  0.9912663755458515\n",
      "Specificity :  1.0\n",
      "Error :  0.004854368932038833\n"
     ]
    }
   ],
   "source": [
    "LR = LogisticRegression(penalty='l1').fit(X_train, y_train)\n",
    "LR_pred = LR.predict(X_test)\n",
    "cm = confusion_matrix(y_test, LR_pred)\n",
    "print('Confusion Matrix : \\n', cm)\n",
    "total = sum(sum(cm))\n",
    "accuracy=(cm[0,0]+cm[1,1])/total\n",
    "print ('Accuracy : ', accuracy)\n",
    "sensitivity = cm[0,0]/(cm[0,0]+cm[0,1])\n",
    "print('Sensitivity : ', sensitivity )\n",
    "specificity = cm[1,1]/(cm[1,0]+cm[1,1])\n",
    "print('Specificity : ', specificity )\n",
    "error = 1 - accuracy\n",
    "print('Error : ', error )"
   ]
  },
  {
   "cell_type": "code",
   "execution_count": 119,
   "metadata": {},
   "outputs": [
    {
     "name": "stdout",
     "output_type": "stream",
     "text": [
      "Confusion Matrix : \n",
      " [[229   0]\n",
      " [  0 183]]\n",
      "Accuracy :  1.0\n",
      "Sensitivity :  1.0\n",
      "Specificity :  1.0\n",
      "Error :  0.0\n"
     ]
    }
   ],
   "source": [
    "from sklearn.preprocessing import PolynomialFeatures\n",
    "\n",
    "poly = PolynomialFeatures(degree=2)\n",
    "Xtrain_poly = poly.fit_transform(X_train)\n",
    "Xtest_poly = poly.fit_transform(X_test)\n",
    "\n",
    "LRP = LogisticRegression(penalty='l1').fit(Xtrain_poly, y_train)\n",
    "LRP_pred = LRP.predict(Xtest_poly)\n",
    "\n",
    "cm = confusion_matrix(y_test, LRP_pred)\n",
    "print('Confusion Matrix : \\n', cm)\n",
    "total = sum(sum(cm))\n",
    "accuracy=(cm[0,0]+cm[1,1])/total\n",
    "print ('Accuracy : ', accuracy)\n",
    "sensitivity = cm[0,0]/(cm[0,0]+cm[0,1])\n",
    "print('Sensitivity : ', sensitivity )\n",
    "specificity = cm[1,1]/(cm[1,0]+cm[1,1])\n",
    "print('Specificity : ', specificity )\n",
    "error = 1 - accuracy\n",
    "print('Error : ', error )"
   ]
  },
  {
   "cell_type": "markdown",
   "metadata": {},
   "source": [
    "### And we achieved 100% on all performance measures for Logistic Regression - as good as SVM!"
   ]
  },
  {
   "cell_type": "code",
   "execution_count": 286,
   "metadata": {},
   "outputs": [
    {
     "name": "stdout",
     "output_type": "stream",
     "text": [
      "Confusion Matrix : \n",
      " [[227   2]\n",
      " [  3 180]]\n",
      "Accuracy :  0.9878640776699029\n",
      "Sensitivity :  0.9912663755458515\n",
      "Specificity :  0.9836065573770492\n",
      "Error :  0.012135922330097082\n"
     ]
    }
   ],
   "source": [
    "Dtree=DecisionTreeClassifier(random_state=6).fit(X_train, y_train)\n",
    "Dtree_pred = Dtree.predict(X_test)\n",
    "cm = confusion_matrix(y_test, Dtree_pred)\n",
    "print('Confusion Matrix : \\n', cm)\n",
    "total = sum(sum(cm))\n",
    "accuracy=(cm[0,0]+cm[1,1])/total\n",
    "print ('Accuracy : ', accuracy)\n",
    "sensitivity = cm[0,0]/(cm[0,0]+cm[0,1])\n",
    "print('Sensitivity : ', sensitivity )\n",
    "specificity = cm[1,1]/(cm[1,0]+cm[1,1])\n",
    "print('Specificity : ', specificity )\n",
    "error = 1 - accuracy\n",
    "print('Error : ', error )"
   ]
  },
  {
   "cell_type": "code",
   "execution_count": 283,
   "metadata": {},
   "outputs": [
    {
     "name": "stdout",
     "output_type": "stream",
     "text": [
      "{'max_depth': 9, 'max_features': 'auto', 'random_state': 6}\n"
     ]
    }
   ],
   "source": [
    "from sklearn.grid_search import GridSearchCV\n",
    "#from sklearn.metrics import make_scorer\n",
    "#from sklearn.metrics import classification_report, confusion_matrix, accuracy_score\n",
    "params = {\"max_depth\": [1,3,5,7,9,11, 13, 15, 20], \"max_features\":['auto', 'sqrt', 'log2'], \"random_state\":[6]}\n",
    "classifier = DecisionTreeClassifier()\n",
    "CV_tree = GridSearchCV(estimator=classifier, param_grid=params, cv=10, scoring= 'accuracy')\n",
    "CV_tree.fit(X_train, y_train)\n",
    "print(CV_tree.best_params_)"
   ]
  },
  {
   "cell_type": "code",
   "execution_count": 285,
   "metadata": {},
   "outputs": [
    {
     "name": "stdout",
     "output_type": "stream",
     "text": [
      "Confusion Matrix : \n",
      " [[226   3]\n",
      " [  1 182]]\n",
      "Accuracy :  0.9902912621359223\n",
      "Sensitivity :  0.9868995633187773\n",
      "Specificity :  0.994535519125683\n",
      "Error :  0.009708737864077666\n"
     ]
    }
   ],
   "source": [
    "Dtree2=DecisionTreeClassifier(max_depth=9, max_features='auto', random_state=6).fit(X_train, y_train)\n",
    "Dtree_pred2 = Dtree2.predict(X_test)\n",
    "cm = confusion_matrix(y_test, Dtree_pred2)\n",
    "print('Confusion Matrix : \\n', cm)\n",
    "total = sum(sum(cm))\n",
    "accuracy=(cm[0,0]+cm[1,1])/total\n",
    "print ('Accuracy : ', accuracy)\n",
    "sensitivity = cm[0,0]/(cm[0,0]+cm[0,1])\n",
    "print('Sensitivity : ', sensitivity )\n",
    "specificity = cm[1,1]/(cm[1,0]+cm[1,1])\n",
    "print('Specificity : ', specificity )\n",
    "error = 1 - accuracy\n",
    "print('Error : ', error )"
   ]
  },
  {
   "cell_type": "markdown",
   "metadata": {},
   "source": [
    "#### By tunning the hyper-paramethers, we only lowered the error rate from Dtree slightly (from 0.012 to 0.0097).\n",
    "But considering that we only tried one random state, the difference is small. In other situations, the potential of\n",
    "improvement might be more."
   ]
  },
  {
   "cell_type": "markdown",
   "metadata": {},
   "source": [
    "### Now let's see if we can improve NB performance.\n",
    "\n",
    "Since NB assumes that the features are inpendent, I will try to delete the entropy and kurtosisW that are highly correlated with skewnessW.  And from the EDA, we see that there may have interaction between variance and skewness of wavelets, so I created an interaction term to include as a new feature."
   ]
  },
  {
   "cell_type": "code",
   "execution_count": 276,
   "metadata": {},
   "outputs": [
    {
     "data": {
      "text/html": [
       "<div>\n",
       "<style scoped>\n",
       "    .dataframe tbody tr th:only-of-type {\n",
       "        vertical-align: middle;\n",
       "    }\n",
       "\n",
       "    .dataframe tbody tr th {\n",
       "        vertical-align: top;\n",
       "    }\n",
       "\n",
       "    .dataframe thead th {\n",
       "        text-align: right;\n",
       "    }\n",
       "</style>\n",
       "<table border=\"1\" class=\"dataframe\">\n",
       "  <thead>\n",
       "    <tr style=\"text-align: right;\">\n",
       "      <th></th>\n",
       "      <th>varianceW</th>\n",
       "      <th>skewnessW</th>\n",
       "      <th>Interaction</th>\n",
       "    </tr>\n",
       "  </thead>\n",
       "  <tbody>\n",
       "    <tr>\n",
       "      <th>0</th>\n",
       "      <td>1.121806</td>\n",
       "      <td>1.149455</td>\n",
       "      <td>1.289465</td>\n",
       "    </tr>\n",
       "    <tr>\n",
       "      <th>1</th>\n",
       "      <td>1.447066</td>\n",
       "      <td>1.064453</td>\n",
       "      <td>1.540333</td>\n",
       "    </tr>\n",
       "    <tr>\n",
       "      <th>2</th>\n",
       "      <td>1.207810</td>\n",
       "      <td>-0.777352</td>\n",
       "      <td>-0.938893</td>\n",
       "    </tr>\n",
       "    <tr>\n",
       "      <th>3</th>\n",
       "      <td>1.063742</td>\n",
       "      <td>1.295478</td>\n",
       "      <td>1.378054</td>\n",
       "    </tr>\n",
       "    <tr>\n",
       "      <th>4</th>\n",
       "      <td>-0.036772</td>\n",
       "      <td>-1.087038</td>\n",
       "      <td>0.039972</td>\n",
       "    </tr>\n",
       "  </tbody>\n",
       "</table>\n",
       "</div>"
      ],
      "text/plain": [
       "   varianceW  skewnessW  Interaction\n",
       "0   1.121806   1.149455     1.289465\n",
       "1   1.447066   1.064453     1.540333\n",
       "2   1.207810  -0.777352    -0.938893\n",
       "3   1.063742   1.295478     1.378054\n",
       "4  -0.036772  -1.087038     0.039972"
      ]
     },
     "execution_count": 276,
     "metadata": {},
     "output_type": "execute_result"
    }
   ],
   "source": [
    "# Now for the Naive Bayes again. \n",
    "sXX = sX.drop(['kurtosisW', 'entropy'], axis=1)\n",
    "sXX['Interaction'] = sXX['varianceW']*sXX['skewnessW']\n",
    "X_train1, X_test1, y_train1, y_test1 = train_test_split(sXX, y, test_size=0.30, random_state=5, stratify=y)\n",
    "sXX.head()"
   ]
  },
  {
   "cell_type": "code",
   "execution_count": 244,
   "metadata": {},
   "outputs": [
    {
     "name": "stdout",
     "output_type": "stream",
     "text": [
      "Confusion Matrix : \n",
      " [[199  30]\n",
      " [ 23 160]]\n",
      "Accuracy :  0.8713592233009708\n",
      "Sensitivity :  0.868995633187773\n",
      "Specificity :  0.8743169398907104\n",
      "Error :  0.12864077669902918\n"
     ]
    }
   ],
   "source": [
    "NB = BernoulliNB().fit(X_train1, y_train1)\n",
    "NB_pred = NB.predict(X_test1)\n",
    "cm = confusion_matrix(y_test1, NB_pred)\n",
    "print('Confusion Matrix : \\n', cm)\n",
    "total = sum(sum(cm))\n",
    "accuracy=(cm[0,0]+cm[1,1])/total\n",
    "print ('Accuracy : ', accuracy)\n",
    "sensitivity = cm[0,0]/(cm[0,0]+cm[0,1])\n",
    "print('Sensitivity : ', sensitivity )\n",
    "specificity = cm[1,1]/(cm[1,0]+cm[1,1])\n",
    "print('Specificity : ', specificity )\n",
    "error = 1 - accuracy\n",
    "print('Error : ', error )"
   ]
  },
  {
   "cell_type": "code",
   "execution_count": 287,
   "metadata": {},
   "outputs": [
    {
     "name": "stdout",
     "output_type": "stream",
     "text": [
      "Confusion Matrix : \n",
      " [[187  42]\n",
      " [ 23 160]]\n",
      "Accuracy :  0.8422330097087378\n",
      "Sensitivity :  0.8165938864628821\n",
      "Specificity :  0.8743169398907104\n",
      "Error :  0.15776699029126218\n"
     ]
    }
   ],
   "source": [
    "# The original model performance:\n",
    "NB = BernoulliNB().fit(X_train, y_train)\n",
    "NB_pred = NB.predict(X_test)\n",
    "cm = confusion_matrix(y_test, NB_pred)\n",
    "print('Confusion Matrix : \\n', cm)\n",
    "total = sum(sum(cm))\n",
    "accuracy=(cm[0,0]+cm[1,1])/total\n",
    "print ('Accuracy : ', accuracy)\n",
    "sensitivity = cm[0,0]/(cm[0,0]+cm[0,1])\n",
    "print('Sensitivity : ', sensitivity )\n",
    "specificity = cm[1,1]/(cm[1,0]+cm[1,1])\n",
    "print('Specificity : ', specificity )\n",
    "error = 1 - accuracy\n",
    "print('Error : ', error )"
   ]
  },
  {
   "cell_type": "markdown",
   "metadata": {},
   "source": [
    "#### We can see that comparing with the original performances (with all four features and no interaction term), \n",
    "#### the new model has improved about 3% in accuracy and lowered 3% in error rate.  The improvement happened more on the sensitivity."
   ]
  },
  {
   "cell_type": "markdown",
   "metadata": {},
   "source": [
    "### In conclusion, this is an exercise for me to learn to understand how to improve model performances.  Even if when ML algorithms\n",
    "### are automatic and powerful, I think there will have a lot situations that will require that we understand the data and \n",
    "### the assumptions of each algorithm so that we can improve predications by feature engineering, hyper-paramether tuning, \n",
    "### model selection and maybe all of the above.  Thank you."
   ]
  },
  {
   "cell_type": "markdown",
   "metadata": {},
   "source": [
    "#### Data and Juypter Notebook can be downloaded here:\n",
    "https://github.com/zhongheli/Python_E29"
   ]
  }
 ],
 "metadata": {
  "kernelspec": {
   "display_name": "Python 3",
   "language": "python",
   "name": "python3"
  },
  "language_info": {
   "codemirror_mode": {
    "name": "ipython",
    "version": 3
   },
   "file_extension": ".py",
   "mimetype": "text/x-python",
   "name": "python",
   "nbconvert_exporter": "python",
   "pygments_lexer": "ipython3",
   "version": "3.6.4"
  }
 },
 "nbformat": 4,
 "nbformat_minor": 2
}
